{
 "cells": [
  {
   "cell_type": "markdown",
   "id": "15181627",
   "metadata": {},
   "source": [
    "https://www.kaggle.com/datasets/andreinovikov/used-cars-dataset"
   ]
  },
  {
   "cell_type": "markdown",
   "id": "7c013d2a",
   "metadata": {},
   "source": [
    "# ***Meta Data***\n",
    "- manufacturer - name of the car manufacturer\n",
    "- model - name of the car model\n",
    "- year - the year when the car was produced\n",
    "- mileage - the number of miles the car has traveled since production\n",
    "- engine - car engine\n",
    "- transmission - type of the car's transmission\n",
    "- drivetrain - type of the car's drivetrain\n",
    "- fuel_type - type of fuel that the car consumes\n",
    "- mpg - the number of miles a car can travel using one gallon of fuel (miles per gallon)\n",
    "- exterior_color - car exterior color\n",
    "- interior_color - car interior color\n",
    "- accidents_or_damage - whether the car was involved in accidents\n",
    "- one_owner - whether the car was owned by one person\n",
    "- personal_use_only - whether the car was used only for personal purposes\n",
    "- seller_name - name of the seller\n",
    "- seller_rating - seller's rating\n",
    "- driver_rating - car rating given by drivers\n",
    "- driver_reviews_num - the number of car reviews left by drivers\n",
    "- price_drop - price reduction from the initial price\n",
    "- price - car price"
   ]
  },
  {
   "cell_type": "markdown",
   "id": "d40307e7",
   "metadata": {},
   "source": [
    "# The data about used cars price, we want to know what fearur have an effect\n"
   ]
  },
  {
   "cell_type": "code",
   "execution_count": 1,
   "id": "1a13f752",
   "metadata": {},
   "outputs": [],
   "source": [
    "import pandas as pd \n",
    "import numpy as np \n",
    "import seaborn as sns\n",
    "import matplotlib.pyplot as plt\n",
    "import plotly.express as px\n",
    "from   datasist.structdata import detect_outliers as do"
   ]
  },
  {
   "cell_type": "code",
   "execution_count": 2,
   "id": "9714303a",
   "metadata": {},
   "outputs": [],
   "source": [
    "df = pd.read_csv('cars.csv')"
   ]
  },
  {
   "cell_type": "code",
   "execution_count": 3,
   "id": "d7e5bd4d",
   "metadata": {},
   "outputs": [
    {
     "data": {
      "text/html": [
       "<div>\n",
       "<style scoped>\n",
       "    .dataframe tbody tr th:only-of-type {\n",
       "        vertical-align: middle;\n",
       "    }\n",
       "\n",
       "    .dataframe tbody tr th {\n",
       "        vertical-align: top;\n",
       "    }\n",
       "\n",
       "    .dataframe thead th {\n",
       "        text-align: right;\n",
       "    }\n",
       "</style>\n",
       "<table border=\"1\" class=\"dataframe\">\n",
       "  <thead>\n",
       "    <tr style=\"text-align: right;\">\n",
       "      <th></th>\n",
       "      <th>manufacturer</th>\n",
       "      <th>model</th>\n",
       "      <th>year</th>\n",
       "      <th>mileage</th>\n",
       "      <th>engine</th>\n",
       "      <th>transmission</th>\n",
       "      <th>drivetrain</th>\n",
       "      <th>fuel_type</th>\n",
       "      <th>mpg</th>\n",
       "      <th>exterior_color</th>\n",
       "      <th>interior_color</th>\n",
       "      <th>accidents_or_damage</th>\n",
       "      <th>one_owner</th>\n",
       "      <th>personal_use_only</th>\n",
       "      <th>seller_name</th>\n",
       "      <th>seller_rating</th>\n",
       "      <th>driver_rating</th>\n",
       "      <th>driver_reviews_num</th>\n",
       "      <th>price_drop</th>\n",
       "      <th>price</th>\n",
       "    </tr>\n",
       "  </thead>\n",
       "  <tbody>\n",
       "    <tr>\n",
       "      <th>0</th>\n",
       "      <td>Acura</td>\n",
       "      <td>ILX Hybrid 1.5L</td>\n",
       "      <td>2013</td>\n",
       "      <td>92945.0</td>\n",
       "      <td>1.5L I-4 i-VTEC variable valve control, engine...</td>\n",
       "      <td>Automatic</td>\n",
       "      <td>Front-wheel Drive</td>\n",
       "      <td>Gasoline</td>\n",
       "      <td>39-38</td>\n",
       "      <td>Black</td>\n",
       "      <td>Parchment</td>\n",
       "      <td>0.0</td>\n",
       "      <td>0.0</td>\n",
       "      <td>0.0</td>\n",
       "      <td>Iconic Coach</td>\n",
       "      <td>NaN</td>\n",
       "      <td>4.4</td>\n",
       "      <td>12.0</td>\n",
       "      <td>300.0</td>\n",
       "      <td>13988.0</td>\n",
       "    </tr>\n",
       "    <tr>\n",
       "      <th>1</th>\n",
       "      <td>Acura</td>\n",
       "      <td>ILX Hybrid 1.5L</td>\n",
       "      <td>2013</td>\n",
       "      <td>47645.0</td>\n",
       "      <td>1.5L I4 8V MPFI SOHC Hybrid</td>\n",
       "      <td>Automatic CVT</td>\n",
       "      <td>Front-wheel Drive</td>\n",
       "      <td>Hybrid</td>\n",
       "      <td>39-38</td>\n",
       "      <td>Gray</td>\n",
       "      <td>Ebony</td>\n",
       "      <td>1.0</td>\n",
       "      <td>1.0</td>\n",
       "      <td>1.0</td>\n",
       "      <td>Kars Today</td>\n",
       "      <td>NaN</td>\n",
       "      <td>4.4</td>\n",
       "      <td>12.0</td>\n",
       "      <td>NaN</td>\n",
       "      <td>17995.0</td>\n",
       "    </tr>\n",
       "    <tr>\n",
       "      <th>2</th>\n",
       "      <td>Acura</td>\n",
       "      <td>ILX Hybrid 1.5L</td>\n",
       "      <td>2013</td>\n",
       "      <td>53422.0</td>\n",
       "      <td>1.5L I4 8V MPFI SOHC Hybrid</td>\n",
       "      <td>Automatic CVT</td>\n",
       "      <td>Front-wheel Drive</td>\n",
       "      <td>Hybrid</td>\n",
       "      <td>39-38</td>\n",
       "      <td>Bellanova White Pearl</td>\n",
       "      <td>Ebony</td>\n",
       "      <td>0.0</td>\n",
       "      <td>1.0</td>\n",
       "      <td>1.0</td>\n",
       "      <td>Weiss Toyota of South County</td>\n",
       "      <td>4.3</td>\n",
       "      <td>4.4</td>\n",
       "      <td>12.0</td>\n",
       "      <td>500.0</td>\n",
       "      <td>17000.0</td>\n",
       "    </tr>\n",
       "    <tr>\n",
       "      <th>3</th>\n",
       "      <td>Acura</td>\n",
       "      <td>ILX Hybrid 1.5L</td>\n",
       "      <td>2013</td>\n",
       "      <td>117598.0</td>\n",
       "      <td>1.5L I4 8V MPFI SOHC Hybrid</td>\n",
       "      <td>Automatic CVT</td>\n",
       "      <td>Front-wheel Drive</td>\n",
       "      <td>Hybrid</td>\n",
       "      <td>39-38</td>\n",
       "      <td>Polished Metal Metallic</td>\n",
       "      <td>NaN</td>\n",
       "      <td>0.0</td>\n",
       "      <td>1.0</td>\n",
       "      <td>1.0</td>\n",
       "      <td>Apple Tree Acura</td>\n",
       "      <td>NaN</td>\n",
       "      <td>4.4</td>\n",
       "      <td>12.0</td>\n",
       "      <td>675.0</td>\n",
       "      <td>14958.0</td>\n",
       "    </tr>\n",
       "    <tr>\n",
       "      <th>4</th>\n",
       "      <td>Acura</td>\n",
       "      <td>ILX Hybrid 1.5L</td>\n",
       "      <td>2013</td>\n",
       "      <td>114865.0</td>\n",
       "      <td>1.5L I4 8V MPFI SOHC Hybrid</td>\n",
       "      <td>Automatic CVT</td>\n",
       "      <td>Front-wheel Drive</td>\n",
       "      <td>Hybrid</td>\n",
       "      <td>39-38</td>\n",
       "      <td>NaN</td>\n",
       "      <td>Ebony</td>\n",
       "      <td>1.0</td>\n",
       "      <td>0.0</td>\n",
       "      <td>1.0</td>\n",
       "      <td>Herb Connolly Chevrolet</td>\n",
       "      <td>3.7</td>\n",
       "      <td>4.4</td>\n",
       "      <td>12.0</td>\n",
       "      <td>300.0</td>\n",
       "      <td>14498.0</td>\n",
       "    </tr>\n",
       "  </tbody>\n",
       "</table>\n",
       "</div>"
      ],
      "text/plain": [
       "  manufacturer            model  year   mileage  \\\n",
       "0        Acura  ILX Hybrid 1.5L  2013   92945.0   \n",
       "1        Acura  ILX Hybrid 1.5L  2013   47645.0   \n",
       "2        Acura  ILX Hybrid 1.5L  2013   53422.0   \n",
       "3        Acura  ILX Hybrid 1.5L  2013  117598.0   \n",
       "4        Acura  ILX Hybrid 1.5L  2013  114865.0   \n",
       "\n",
       "                                              engine   transmission  \\\n",
       "0  1.5L I-4 i-VTEC variable valve control, engine...      Automatic   \n",
       "1                        1.5L I4 8V MPFI SOHC Hybrid  Automatic CVT   \n",
       "2                        1.5L I4 8V MPFI SOHC Hybrid  Automatic CVT   \n",
       "3                        1.5L I4 8V MPFI SOHC Hybrid  Automatic CVT   \n",
       "4                        1.5L I4 8V MPFI SOHC Hybrid  Automatic CVT   \n",
       "\n",
       "          drivetrain fuel_type    mpg           exterior_color interior_color  \\\n",
       "0  Front-wheel Drive  Gasoline  39-38                    Black      Parchment   \n",
       "1  Front-wheel Drive    Hybrid  39-38                     Gray          Ebony   \n",
       "2  Front-wheel Drive    Hybrid  39-38    Bellanova White Pearl          Ebony   \n",
       "3  Front-wheel Drive    Hybrid  39-38  Polished Metal Metallic            NaN   \n",
       "4  Front-wheel Drive    Hybrid  39-38                      NaN          Ebony   \n",
       "\n",
       "   accidents_or_damage  one_owner  personal_use_only  \\\n",
       "0                  0.0        0.0                0.0   \n",
       "1                  1.0        1.0                1.0   \n",
       "2                  0.0        1.0                1.0   \n",
       "3                  0.0        1.0                1.0   \n",
       "4                  1.0        0.0                1.0   \n",
       "\n",
       "                    seller_name  seller_rating  driver_rating  \\\n",
       "0                  Iconic Coach            NaN            4.4   \n",
       "1                    Kars Today            NaN            4.4   \n",
       "2  Weiss Toyota of South County            4.3            4.4   \n",
       "3              Apple Tree Acura            NaN            4.4   \n",
       "4       Herb Connolly Chevrolet            3.7            4.4   \n",
       "\n",
       "   driver_reviews_num  price_drop    price  \n",
       "0                12.0       300.0  13988.0  \n",
       "1                12.0         NaN  17995.0  \n",
       "2                12.0       500.0  17000.0  \n",
       "3                12.0       675.0  14958.0  \n",
       "4                12.0       300.0  14498.0  "
      ]
     },
     "execution_count": 3,
     "metadata": {},
     "output_type": "execute_result"
    }
   ],
   "source": [
    "df.head()"
   ]
  },
  {
   "cell_type": "code",
   "execution_count": 4,
   "id": "f475ee40",
   "metadata": {},
   "outputs": [
    {
     "name": "stdout",
     "output_type": "stream",
     "text": [
      "<class 'pandas.core.frame.DataFrame'>\n",
      "RangeIndex: 762091 entries, 0 to 762090\n",
      "Data columns (total 20 columns):\n",
      " #   Column               Non-Null Count   Dtype  \n",
      "---  ------               --------------   -----  \n",
      " 0   manufacturer         762091 non-null  object \n",
      " 1   model                762091 non-null  object \n",
      " 2   year                 762091 non-null  int64  \n",
      " 3   mileage              761585 non-null  float64\n",
      " 4   engine               747041 non-null  object \n",
      " 5   transmission         752187 non-null  object \n",
      " 6   drivetrain           740529 non-null  object \n",
      " 7   fuel_type            739164 non-null  object \n",
      " 8   mpg                  620020 non-null  object \n",
      " 9   exterior_color       753232 non-null  object \n",
      " 10  interior_color       705116 non-null  object \n",
      " 11  accidents_or_damage  737879 non-null  float64\n",
      " 12  one_owner            730608 non-null  float64\n",
      " 13  personal_use_only    737239 non-null  float64\n",
      " 14  seller_name          753498 non-null  object \n",
      " 15  seller_rating        548118 non-null  float64\n",
      " 16  driver_rating        730459 non-null  float64\n",
      " 17  driver_reviews_num   762091 non-null  float64\n",
      " 18  price_drop           410112 non-null  float64\n",
      " 19  price                762091 non-null  float64\n",
      "dtypes: float64(9), int64(1), object(10)\n",
      "memory usage: 116.3+ MB\n"
     ]
    }
   ],
   "source": [
    "df.info()"
   ]
  },
  {
   "cell_type": "code",
   "execution_count": 5,
   "id": "0b7091dd",
   "metadata": {
    "scrolled": true
   },
   "outputs": [
    {
     "data": {
      "text/plain": [
       "manufacturer            0.000000\n",
       "model                   0.000000\n",
       "year                    0.000000\n",
       "mileage                 0.066396\n",
       "engine                  1.974830\n",
       "transmission            1.299582\n",
       "drivetrain              2.829321\n",
       "fuel_type               3.008433\n",
       "mpg                    18.642262\n",
       "exterior_color          1.162460\n",
       "interior_color          7.476141\n",
       "accidents_or_damage     3.177048\n",
       "one_owner               4.131134\n",
       "personal_use_only       3.261028\n",
       "seller_name             1.127556\n",
       "seller_rating          28.077093\n",
       "driver_rating           4.150685\n",
       "driver_reviews_num      0.000000\n",
       "price_drop             46.185954\n",
       "price                   0.000000\n",
       "dtype: float64"
      ]
     },
     "execution_count": 5,
     "metadata": {},
     "output_type": "execute_result"
    }
   ],
   "source": [
    "df.isna().mean()*100\n"
   ]
  },
  {
   "cell_type": "markdown",
   "id": "f54f3b39",
   "metadata": {},
   "source": [
    "# Data Cleaning"
   ]
  },
  {
   "cell_type": "code",
   "execution_count": 6,
   "id": "ed575e95",
   "metadata": {},
   "outputs": [
    {
     "data": {
      "text/plain": [
       "9145"
      ]
     },
     "execution_count": 6,
     "metadata": {},
     "output_type": "execute_result"
    }
   ],
   "source": [
    "3# dealing with duplicated values \n",
    "df.duplicated().sum()"
   ]
  },
  {
   "cell_type": "code",
   "execution_count": 7,
   "id": "68e3c380",
   "metadata": {},
   "outputs": [],
   "source": [
    "# remove dupicated values \n",
    "df.drop_duplicates(inplace=True)"
   ]
  },
  {
   "cell_type": "code",
   "execution_count": 8,
   "id": "633f20df",
   "metadata": {},
   "outputs": [],
   "source": [
    "# drop column price drop\n",
    "df.drop(columns='price_drop',inplace=True)"
   ]
  },
  {
   "cell_type": "code",
   "execution_count": 9,
   "id": "76c41483",
   "metadata": {},
   "outputs": [],
   "source": [
    "# Dealing with missing values\n",
    "df.dropna(subset=['manufacturer', 'model', 'year', 'mileage', 'engine', 'transmission',\n",
    "       'drivetrain', 'fuel_type', 'exterior_color', 'interior_color',\n",
    "       'accidents_or_damage', 'one_owner', 'personal_use_only', 'seller_name',\n",
    "        'driver_rating', 'driver_reviews_num', 'price'],inplace=True)"
   ]
  },
  {
   "cell_type": "code",
   "execution_count": 10,
   "id": "2c51c7fd",
   "metadata": {},
   "outputs": [],
   "source": [
    "# filing missing vlues in mpg and seller_rating columns \n",
    "df['mpg'].ffill(inplace=True)\n",
    "df['seller_rating'].ffill(inplace=True)\n",
    "df.dropna(inplace=True)"
   ]
  },
  {
   "cell_type": "code",
   "execution_count": 11,
   "id": "d3729aad",
   "metadata": {},
   "outputs": [
    {
     "data": {
      "text/plain": [
       "manufacturer           0.0\n",
       "model                  0.0\n",
       "year                   0.0\n",
       "mileage                0.0\n",
       "engine                 0.0\n",
       "transmission           0.0\n",
       "drivetrain             0.0\n",
       "fuel_type              0.0\n",
       "mpg                    0.0\n",
       "exterior_color         0.0\n",
       "interior_color         0.0\n",
       "accidents_or_damage    0.0\n",
       "one_owner              0.0\n",
       "personal_use_only      0.0\n",
       "seller_name            0.0\n",
       "seller_rating          0.0\n",
       "driver_rating          0.0\n",
       "driver_reviews_num     0.0\n",
       "price                  0.0\n",
       "dtype: float64"
      ]
     },
     "execution_count": 11,
     "metadata": {},
     "output_type": "execute_result"
    }
   ],
   "source": [
    "df.isnull().mean()*100"
   ]
  },
  {
   "cell_type": "code",
   "execution_count": 12,
   "id": "d5e1bb5f",
   "metadata": {},
   "outputs": [],
   "source": [
    "## fuel_type\n",
    "df['fuel_type']= df['fuel_type'].apply(lambda x : 'Gasoline' if x == 'Gasoline Fuel'else x )"
   ]
  },
  {
   "cell_type": "code",
   "execution_count": 13,
   "id": "e9b86007",
   "metadata": {},
   "outputs": [],
   "source": [
    "# fix the type fo mpg column \n",
    "df['mpg'] = df['mpg'].apply(lambda x: x.split('-'))"
   ]
  },
  {
   "cell_type": "code",
   "execution_count": 14,
   "id": "6bedadb8",
   "metadata": {},
   "outputs": [],
   "source": [
    "def extract_mean(x):\n",
    "    numbers = [float(num) for num in x]\n",
    "    return sum(numbers) / len(numbers)"
   ]
  },
  {
   "cell_type": "code",
   "execution_count": 15,
   "id": "a4089268",
   "metadata": {},
   "outputs": [],
   "source": [
    "df['mpg']= df['mpg'].apply(extract_mean)"
   ]
  },
  {
   "cell_type": "code",
   "execution_count": 16,
   "id": "0e63e6d1",
   "metadata": {},
   "outputs": [],
   "source": [
    "# remove the outlires from mileage \n",
    "idx =  do(df,0,['mileage'])\n",
    "indx =df.loc[idx].index"
   ]
  },
  {
   "cell_type": "code",
   "execution_count": 17,
   "id": "1338c9e6",
   "metadata": {},
   "outputs": [],
   "source": [
    "df.drop(indx,inplace=True)"
   ]
  },
  {
   "cell_type": "code",
   "execution_count": 18,
   "id": "dcfcddd4",
   "metadata": {},
   "outputs": [],
   "source": [
    "mile = df[df['mileage']<=10.0]\n",
    "mile = mile[mile['year']!=2023].index\n",
    "df['mileage']=df['mileage'].apply(lambda x : 53349.94 if x in mile else x)"
   ]
  },
  {
   "cell_type": "code",
   "execution_count": 19,
   "id": "cd9dd8cb",
   "metadata": {},
   "outputs": [],
   "source": [
    "# remove unknown in column drivetrain\n",
    "ind = df[df['drivetrain']=='Unknown'].index"
   ]
  },
  {
   "cell_type": "code",
   "execution_count": 20,
   "id": "dcccff93",
   "metadata": {},
   "outputs": [],
   "source": [
    "df.drop(ind,inplace=True)"
   ]
  },
  {
   "cell_type": "code",
   "execution_count": 21,
   "id": "1a3355de",
   "metadata": {},
   "outputs": [],
   "source": [
    "# func to replace the frequant values with the original values\n",
    "def rplace(x):\n",
    "    if x in ['AWD','4x4','All-Wheel Drive','All Wheel Drive']:\n",
    "        return 'All-wheel Drive'\n",
    "    elif x in ['FWD','Front-Wheel Drive','Front Wheel Drive']:\n",
    "        return 'Front-wheel Drive'\n",
    "    elif x in ['4WD','Four Wheel Drive']:\n",
    "        return 'Four-wheel Drive'\n",
    "    elif x in ['RWD','Rear Wheel Drive']:\n",
    "        return 'Rear-wheel Drive'\n",
    "    else:\n",
    "        return x"
   ]
  },
  {
   "cell_type": "code",
   "execution_count": 22,
   "id": "6ca583e0",
   "metadata": {},
   "outputs": [],
   "source": [
    "df['drivetrain'] = df['drivetrain'].apply(rplace)"
   ]
  },
  {
   "cell_type": "code",
   "execution_count": 23,
   "id": "8c13a8cc",
   "metadata": {},
   "outputs": [],
   "source": [
    "# extract column age from column year\n",
    "df['age']= 2023-df['year']\n",
    "# drop column year we don't need any more \n",
    "# df.drop(columns='year',inplace=True)"
   ]
  },
  {
   "cell_type": "code",
   "execution_count": 24,
   "id": "8b108cc3",
   "metadata": {},
   "outputs": [],
   "source": [
    "### remove the ouliers in the column price\n",
    "idx = do(df,0,['price'])\n",
    "df.drop(df.loc[idx].index,inplace=True)\n"
   ]
  },
  {
   "cell_type": "code",
   "execution_count": 25,
   "id": "62f15e6c",
   "metadata": {},
   "outputs": [],
   "source": [
    "## drop values that less than 100 or equal\n",
    "df.drop(df[df['price']<=100].index,inplace=True)"
   ]
  },
  {
   "cell_type": "code",
   "execution_count": 26,
   "id": "e5550755",
   "metadata": {},
   "outputs": [
    {
     "data": {
      "text/html": [
       "<div>\n",
       "<style scoped>\n",
       "    .dataframe tbody tr th:only-of-type {\n",
       "        vertical-align: middle;\n",
       "    }\n",
       "\n",
       "    .dataframe tbody tr th {\n",
       "        vertical-align: top;\n",
       "    }\n",
       "\n",
       "    .dataframe thead th {\n",
       "        text-align: right;\n",
       "    }\n",
       "</style>\n",
       "<table border=\"1\" class=\"dataframe\">\n",
       "  <thead>\n",
       "    <tr style=\"text-align: right;\">\n",
       "      <th></th>\n",
       "      <th>index</th>\n",
       "      <th>transmission</th>\n",
       "    </tr>\n",
       "  </thead>\n",
       "  <tbody>\n",
       "    <tr>\n",
       "      <th>0</th>\n",
       "      <td>6-Speed Automatic</td>\n",
       "      <td>123100</td>\n",
       "    </tr>\n",
       "    <tr>\n",
       "      <th>1</th>\n",
       "      <td>8-Speed Automatic</td>\n",
       "      <td>117265</td>\n",
       "    </tr>\n",
       "    <tr>\n",
       "      <th>2</th>\n",
       "      <td>Automatic CVT</td>\n",
       "      <td>93784</td>\n",
       "    </tr>\n",
       "    <tr>\n",
       "      <th>3</th>\n",
       "      <td>Automatic</td>\n",
       "      <td>65561</td>\n",
       "    </tr>\n",
       "    <tr>\n",
       "      <th>4</th>\n",
       "      <td>9-Speed Automatic</td>\n",
       "      <td>50779</td>\n",
       "    </tr>\n",
       "  </tbody>\n",
       "</table>\n",
       "</div>"
      ],
      "text/plain": [
       "               index  transmission\n",
       "0  6-Speed Automatic        123100\n",
       "1  8-Speed Automatic        117265\n",
       "2      Automatic CVT         93784\n",
       "3          Automatic         65561\n",
       "4  9-Speed Automatic         50779"
      ]
     },
     "execution_count": 26,
     "metadata": {},
     "output_type": "execute_result"
    }
   ],
   "source": [
    "# make a data frame from value counts of Transmission column \n",
    "d = df['transmission'].value_counts().to_frame().reset_index()\n",
    "d.head()\n"
   ]
  },
  {
   "cell_type": "code",
   "execution_count": 27,
   "id": "b91bb972",
   "metadata": {},
   "outputs": [
    {
     "data": {
      "text/plain": [
       "776"
      ]
     },
     "execution_count": 27,
     "metadata": {},
     "output_type": "execute_result"
    }
   ],
   "source": [
    "# I try to take count of values that repeted less than 100 and store them in a list \n",
    "less_100 = d[d['transmission']<100]['index'].to_list()\n",
    "df['transmission'].nunique()"
   ]
  },
  {
   "cell_type": "code",
   "execution_count": 28,
   "id": "bc5ac027",
   "metadata": {},
   "outputs": [
    {
     "data": {
      "text/plain": [
       "50"
      ]
     },
     "execution_count": 28,
     "metadata": {},
     "output_type": "execute_result"
    }
   ],
   "source": [
    "# after convert the count of values that less than 100 to other \n",
    "df['transmission'] = df['transmission'].apply(lambda x : 'other' if x in less_100 else x)\n",
    "df['transmission'].nunique()"
   ]
  },
  {
   "cell_type": "code",
   "execution_count": 1,
   "id": "b6c7d887",
   "metadata": {},
   "outputs": [
    {
     "ename": "NameError",
     "evalue": "name 'np' is not defined",
     "output_type": "error",
     "traceback": [
      "\u001b[1;31m---------------------------------------------------------------------------\u001b[0m",
      "\u001b[1;31mNameError\u001b[0m                                 Traceback (most recent call last)",
      "\u001b[1;32mc:\\Users\\Hp\\Desktop\\project\\Epsilon_projects\\secon_Final_project\\Univariate_Analysis.ipynb Cell 33\u001b[0m line \u001b[0;36m1\n\u001b[1;32m----> <a href='vscode-notebook-cell:/c%3A/Users/Hp/Desktop/project/Epsilon_projects/secon_Final_project/Univariate_Analysis.ipynb#Y142sZmlsZQ%3D%3D?line=0'>1</a>\u001b[0m [np\u001b[39m.\u001b[39marange(\u001b[39m10\u001b[39m,\u001b[39m200\u001b[39m,\u001b[39m20\u001b[39m)]\n",
      "\u001b[1;31mNameError\u001b[0m: name 'np' is not defined"
     ]
    }
   ],
   "source": [
    "[np.arange(10,200,20)]"
   ]
  },
  {
   "cell_type": "code",
   "execution_count": 29,
   "id": "f892f7d7",
   "metadata": {},
   "outputs": [
    {
     "data": {
      "text/plain": [
       "8900"
      ]
     },
     "execution_count": 29,
     "metadata": {},
     "output_type": "execute_result"
    }
   ],
   "source": [
    "# fix column mdodel \n",
    "df['model'].nunique()"
   ]
  },
  {
   "cell_type": "code",
   "execution_count": 30,
   "id": "a27e89f4",
   "metadata": {},
   "outputs": [
    {
     "data": {
      "text/plain": [
       "8755"
      ]
     },
     "execution_count": 30,
     "metadata": {},
     "output_type": "execute_result"
    }
   ],
   "source": [
    "df['model'].str.strip().str.title().nunique()"
   ]
  },
  {
   "cell_type": "code",
   "execution_count": 31,
   "id": "d546fa97",
   "metadata": {},
   "outputs": [],
   "source": [
    "df['model']= df['model'].str.strip().str.title()\n"
   ]
  },
  {
   "cell_type": "code",
   "execution_count": 32,
   "id": "f589d6d1",
   "metadata": {},
   "outputs": [
    {
     "data": {
      "text/plain": [
       "3824"
      ]
     },
     "execution_count": 32,
     "metadata": {},
     "output_type": "execute_result"
    }
   ],
   "source": [
    "# fix column engine \n",
    "df['engine'].nunique()"
   ]
  },
  {
   "cell_type": "code",
   "execution_count": 33,
   "id": "f35a207b",
   "metadata": {},
   "outputs": [
    {
     "data": {
      "text/plain": [
       "3782"
      ]
     },
     "execution_count": 33,
     "metadata": {},
     "output_type": "execute_result"
    }
   ],
   "source": [
    "df['engine'].str.strip().str.title().nunique()"
   ]
  },
  {
   "cell_type": "code",
   "execution_count": 34,
   "id": "7f0722a1",
   "metadata": {},
   "outputs": [],
   "source": [
    "df['engine'] = df['engine'].str.strip().str.title()\n",
    "engine = df['engine'].value_counts().to_frame().reset_index()"
   ]
  },
  {
   "cell_type": "code",
   "execution_count": 35,
   "id": "f1a4ecef",
   "metadata": {},
   "outputs": [],
   "source": [
    "lst= engine[engine['engine']<20]['index'].to_list()\n",
    "df['engine']= df['engine'].apply(lambda u : 'other' if u in lst else u )"
   ]
  },
  {
   "cell_type": "code",
   "execution_count": 36,
   "id": "c362aaca",
   "metadata": {},
   "outputs": [
    {
     "data": {
      "text/plain": [
       "751"
      ]
     },
     "execution_count": 36,
     "metadata": {},
     "output_type": "execute_result"
    }
   ],
   "source": [
    "df['engine'].nunique()"
   ]
  },
  {
   "cell_type": "code",
   "execution_count": 37,
   "id": "de1c3b97",
   "metadata": {},
   "outputs": [
    {
     "data": {
      "text/plain": [
       "(576913, 20)"
      ]
     },
     "execution_count": 37,
     "metadata": {},
     "output_type": "execute_result"
    }
   ],
   "source": [
    "df.shape"
   ]
  },
  {
   "cell_type": "code",
   "execution_count": 38,
   "id": "e88aad35",
   "metadata": {},
   "outputs": [
    {
     "data": {
      "text/plain": [
       "40405"
      ]
     },
     "execution_count": 38,
     "metadata": {},
     "output_type": "execute_result"
    }
   ],
   "source": [
    "## getting the outliers in each numberic column \n",
    "id = do(df,0,['mpg','mileage'])\n",
    "ind = df.loc[id]\n",
    "len(ind)\n"
   ]
  },
  {
   "cell_type": "code",
   "execution_count": 39,
   "id": "5de5efaa",
   "metadata": {},
   "outputs": [],
   "source": [
    "## drop the outlirs from these columns \n",
    "df.drop(ind.index,inplace=True)"
   ]
  },
  {
   "cell_type": "code",
   "execution_count": 40,
   "id": "0e506d1a",
   "metadata": {},
   "outputs": [],
   "source": [
    "### exterior_color\n",
    "df['exterior_color'] = df['exterior_color'].str.lower().str.title()"
   ]
  },
  {
   "cell_type": "code",
   "execution_count": 41,
   "id": "4fbbd71d",
   "metadata": {},
   "outputs": [
    {
     "data": {
      "text/html": [
       "<div>\n",
       "<style scoped>\n",
       "    .dataframe tbody tr th:only-of-type {\n",
       "        vertical-align: middle;\n",
       "    }\n",
       "\n",
       "    .dataframe tbody tr th {\n",
       "        vertical-align: top;\n",
       "    }\n",
       "\n",
       "    .dataframe thead th {\n",
       "        text-align: right;\n",
       "    }\n",
       "</style>\n",
       "<table border=\"1\" class=\"dataframe\">\n",
       "  <thead>\n",
       "    <tr style=\"text-align: right;\">\n",
       "      <th></th>\n",
       "      <th>index</th>\n",
       "      <th>exterior_color</th>\n",
       "    </tr>\n",
       "  </thead>\n",
       "  <tbody>\n",
       "    <tr>\n",
       "      <th>0</th>\n",
       "      <td>Black</td>\n",
       "      <td>38722</td>\n",
       "    </tr>\n",
       "    <tr>\n",
       "      <th>1</th>\n",
       "      <td>White</td>\n",
       "      <td>28236</td>\n",
       "    </tr>\n",
       "    <tr>\n",
       "      <th>2</th>\n",
       "      <td>Gray</td>\n",
       "      <td>18966</td>\n",
       "    </tr>\n",
       "    <tr>\n",
       "      <th>3</th>\n",
       "      <td>Silver</td>\n",
       "      <td>15243</td>\n",
       "    </tr>\n",
       "    <tr>\n",
       "      <th>4</th>\n",
       "      <td>Summit White</td>\n",
       "      <td>11655</td>\n",
       "    </tr>\n",
       "    <tr>\n",
       "      <th>...</th>\n",
       "      <td>...</td>\n",
       "      <td>...</td>\n",
       "    </tr>\n",
       "    <tr>\n",
       "      <th>5371</th>\n",
       "      <td>Flame Red Clearcoat / Black Soft Top</td>\n",
       "      <td>1</td>\n",
       "    </tr>\n",
       "    <tr>\n",
       "      <th>5372</th>\n",
       "      <td>Patriot Blue Pearlcoat / Black Hard Top</td>\n",
       "      <td>1</td>\n",
       "    </tr>\n",
       "    <tr>\n",
       "      <th>5373</th>\n",
       "      <td>Green Clearcoat</td>\n",
       "      <td>1</td>\n",
       "    </tr>\n",
       "    <tr>\n",
       "      <th>5374</th>\n",
       "      <td>Red Rock Crystal Pearlcoat/Black Soft Top</td>\n",
       "      <td>1</td>\n",
       "    </tr>\n",
       "    <tr>\n",
       "      <th>5375</th>\n",
       "      <td>Osmin Gray Metallic</td>\n",
       "      <td>1</td>\n",
       "    </tr>\n",
       "  </tbody>\n",
       "</table>\n",
       "<p>5376 rows × 2 columns</p>\n",
       "</div>"
      ],
      "text/plain": [
       "                                          index  exterior_color\n",
       "0                                         Black           38722\n",
       "1                                         White           28236\n",
       "2                                          Gray           18966\n",
       "3                                        Silver           15243\n",
       "4                                  Summit White           11655\n",
       "...                                         ...             ...\n",
       "5371       Flame Red Clearcoat / Black Soft Top               1\n",
       "5372    Patriot Blue Pearlcoat / Black Hard Top               1\n",
       "5373                            Green Clearcoat               1\n",
       "5374  Red Rock Crystal Pearlcoat/Black Soft Top               1\n",
       "5375                        Osmin Gray Metallic               1\n",
       "\n",
       "[5376 rows x 2 columns]"
      ]
     },
     "execution_count": 41,
     "metadata": {},
     "output_type": "execute_result"
    }
   ],
   "source": [
    "exterior_color = df['exterior_color'].value_counts().to_frame().reset_index()\n",
    "exterior_color"
   ]
  },
  {
   "cell_type": "code",
   "execution_count": 42,
   "id": "394532c5",
   "metadata": {},
   "outputs": [],
   "source": [
    "lst = exterior_color[exterior_color['exterior_color']<=100]['index'].to_list()"
   ]
  },
  {
   "cell_type": "code",
   "execution_count": 43,
   "id": "a13748c7",
   "metadata": {},
   "outputs": [
    {
     "data": {
      "text/plain": [
       "613"
      ]
     },
     "execution_count": 43,
     "metadata": {},
     "output_type": "execute_result"
    }
   ],
   "source": [
    "df['exterior_color']= df['exterior_color'].apply(lambda x : 'other' if x in lst else x )\n",
    "df['exterior_color'].nunique()"
   ]
  },
  {
   "cell_type": "code",
   "execution_count": 44,
   "id": "722d2e35",
   "metadata": {},
   "outputs": [
    {
     "data": {
      "text/html": [
       "<div>\n",
       "<style scoped>\n",
       "    .dataframe tbody tr th:only-of-type {\n",
       "        vertical-align: middle;\n",
       "    }\n",
       "\n",
       "    .dataframe tbody tr th {\n",
       "        vertical-align: top;\n",
       "    }\n",
       "\n",
       "    .dataframe thead th {\n",
       "        text-align: right;\n",
       "    }\n",
       "</style>\n",
       "<table border=\"1\" class=\"dataframe\">\n",
       "  <thead>\n",
       "    <tr style=\"text-align: right;\">\n",
       "      <th></th>\n",
       "      <th>index</th>\n",
       "      <th>interior_color</th>\n",
       "    </tr>\n",
       "  </thead>\n",
       "  <tbody>\n",
       "    <tr>\n",
       "      <th>0</th>\n",
       "      <td>Black</td>\n",
       "      <td>226406</td>\n",
       "    </tr>\n",
       "    <tr>\n",
       "      <th>1</th>\n",
       "      <td>Gray</td>\n",
       "      <td>36589</td>\n",
       "    </tr>\n",
       "    <tr>\n",
       "      <th>2</th>\n",
       "      <td>Jet Black</td>\n",
       "      <td>35314</td>\n",
       "    </tr>\n",
       "    <tr>\n",
       "      <th>3</th>\n",
       "      <td>Ebony</td>\n",
       "      <td>30904</td>\n",
       "    </tr>\n",
       "    <tr>\n",
       "      <th>4</th>\n",
       "      <td>Charcoal</td>\n",
       "      <td>22474</td>\n",
       "    </tr>\n",
       "    <tr>\n",
       "      <th>...</th>\n",
       "      <td>...</td>\n",
       "      <td>...</td>\n",
       "    </tr>\n",
       "    <tr>\n",
       "      <th>2947</th>\n",
       "      <td>London Tan/Jet</td>\n",
       "      <td>1</td>\n",
       "    </tr>\n",
       "    <tr>\n",
       "      <th>2948</th>\n",
       "      <td>Jet / Dove / Ivory</td>\n",
       "      <td>1</td>\n",
       "    </tr>\n",
       "    <tr>\n",
       "      <th>2949</th>\n",
       "      <td>Jet / Jet Red</td>\n",
       "      <td>1</td>\n",
       "    </tr>\n",
       "    <tr>\n",
       "      <th>2950</th>\n",
       "      <td>Lunar/Light Oyster</td>\n",
       "      <td>1</td>\n",
       "    </tr>\n",
       "    <tr>\n",
       "      <th>2951</th>\n",
       "      <td>Black Stone</td>\n",
       "      <td>1</td>\n",
       "    </tr>\n",
       "  </tbody>\n",
       "</table>\n",
       "<p>2952 rows × 2 columns</p>\n",
       "</div>"
      ],
      "text/plain": [
       "                   index  interior_color\n",
       "0                  Black          226406\n",
       "1                   Gray           36589\n",
       "2              Jet Black           35314\n",
       "3                  Ebony           30904\n",
       "4               Charcoal           22474\n",
       "...                  ...             ...\n",
       "2947      London Tan/Jet               1\n",
       "2948  Jet / Dove / Ivory               1\n",
       "2949       Jet / Jet Red               1\n",
       "2950  Lunar/Light Oyster               1\n",
       "2951         Black Stone               1\n",
       "\n",
       "[2952 rows x 2 columns]"
      ]
     },
     "execution_count": 44,
     "metadata": {},
     "output_type": "execute_result"
    }
   ],
   "source": [
    "# interior_color\n",
    "df['interior_color'] = df['interior_color'].str.lower().str.title()\n",
    "interior_color = df['interior_color'].value_counts().to_frame().reset_index()\n",
    "interior_color"
   ]
  },
  {
   "cell_type": "code",
   "execution_count": 45,
   "id": "ced1bfc7",
   "metadata": {},
   "outputs": [
    {
     "data": {
      "text/plain": [
       "247"
      ]
     },
     "execution_count": 45,
     "metadata": {},
     "output_type": "execute_result"
    }
   ],
   "source": [
    "lst = interior_color[interior_color['interior_color']<=100]['index'].to_list()\n",
    "df['interior_color']= df['interior_color'].apply(lambda x : 'other' if x in lst else x )\n",
    "df['interior_color'].nunique()"
   ]
  },
  {
   "cell_type": "markdown",
   "id": "9eb473d2",
   "metadata": {},
   "source": [
    "# Univariate Analysis"
   ]
  },
  {
   "cell_type": "code",
   "execution_count": 46,
   "id": "2c8002c3",
   "metadata": {},
   "outputs": [
    {
     "data": {
      "image/png": "[encoded data removed]",
      "text/plain": [
       "<Figure size 1500x800 with 1 Axes>"
      ]
     },
     "metadata": {},
     "output_type": "display_data"
    }
   ],
   "source": [
    "values = df['manufacturer'].value_counts().values\n",
    "index = df['manufacturer'].value_counts().index\n",
    "plt.figure(figsize=(15,8))\n",
    "sns.barplot(y=index, x=values)\n",
    "plt.title('Name of Manufacturer',fontsize=25)\n",
    "plt.show()"
   ]
  },
  {
   "cell_type": "code",
   "execution_count": 47,
   "id": "c28e3e8c",
   "metadata": {},
   "outputs": [
    {
     "data": {
      "text/plain": [
       "7918"
      ]
     },
     "execution_count": 47,
     "metadata": {},
     "output_type": "execute_result"
    }
   ],
   "source": [
    "# model\n",
    "df['model'].nunique()"
   ]
  },
  {
   "cell_type": "code",
   "execution_count": 48,
   "id": "bcf10bca",
   "metadata": {},
   "outputs": [
    {
     "data": {
      "image/png": "[encoded data removed]",
      "text/plain": [
       "<Figure size 2000x1000 with 1 Axes>"
      ]
     },
     "metadata": {},
     "output_type": "display_data"
    }
   ],
   "source": [
    "### age \n",
    "\n",
    "plt.figure(figsize=(20,10))\n",
    "df['age'].value_counts().plot(kind='bar')\n",
    "plt.title(' The year when the car was produced',fontsize=17);"
   ]
  },
  {
   "cell_type": "markdown",
   "id": "d9824b46",
   "metadata": {},
   "source": [
    "- most frequant years are from 2019 to 2021"
   ]
  },
  {
   "cell_type": "code",
   "execution_count": 49,
   "id": "c4d4b569",
   "metadata": {},
   "outputs": [
    {
     "data": {
      "image/png": "[encoded data removed]",
      "text/plain": [
       "<Figure size 640x480 with 1 Axes>"
      ]
     },
     "metadata": {},
     "output_type": "display_data"
    }
   ],
   "source": [
    "## Mileage\n",
    "sns.boxplot(y=df['mileage']);"
   ]
  },
  {
   "cell_type": "code",
   "execution_count": 50,
   "id": "31561d64",
   "metadata": {},
   "outputs": [
    {
     "data": {
      "text/plain": [
       "726"
      ]
     },
     "execution_count": 50,
     "metadata": {},
     "output_type": "execute_result"
    }
   ],
   "source": [
    "### engine \n",
    "df['engine'].nunique()"
   ]
  },
  {
   "cell_type": "code",
   "execution_count": 51,
   "id": "88067d0d",
   "metadata": {},
   "outputs": [
    {
     "data": {
      "text/plain": [
       "613"
      ]
     },
     "execution_count": 51,
     "metadata": {},
     "output_type": "execute_result"
    }
   ],
   "source": [
    "### exterior_color \n",
    "df['exterior_color'].nunique()"
   ]
  },
  {
   "cell_type": "code",
   "execution_count": 52,
   "id": "5defee7f",
   "metadata": {},
   "outputs": [
    {
     "data": {
      "text/plain": [
       "8-Speed Automatic                    114801\n",
       "6-Speed Automatic                    110567\n",
       "Automatic CVT                         84959\n",
       "Automatic                             58820\n",
       "9-Speed Automatic                     50668\n",
       "10-Speed Automatic                    22919\n",
       "5-Speed Automatic                     15865\n",
       "7-Speed Automatic                     13895\n",
       "7-Speed Automatic with Auto-Shift     11813\n",
       "6-Speed Manual                        11531\n",
       "4-Speed Automatic                      7522\n",
       "1-Speed Automatic                      7051\n",
       "other                                  4247\n",
       "6-Speed Automatic with Auto-Shift      4163\n",
       "8-Speed Automatic with Auto-Shift      3044\n",
       "5-Speed Manual                         2528\n",
       "Manual                                 2411\n",
       "Variable                               1517\n",
       "IVT                                     726\n",
       "6-Speed                                 700\n",
       "Name: transmission, dtype: int64"
      ]
     },
     "execution_count": 52,
     "metadata": {},
     "output_type": "execute_result"
    }
   ],
   "source": [
    "### transmission\n",
    "df['transmission'].value_counts()[:20]"
   ]
  },
  {
   "cell_type": "code",
   "execution_count": 53,
   "id": "4c2cc948",
   "metadata": {},
   "outputs": [
    {
     "data": {
      "image/png": "[encoded data removed]",
      "text/plain": [
       "<Figure size 640x480 with 1 Axes>"
      ]
     },
     "metadata": {},
     "output_type": "display_data"
    }
   ],
   "source": [
    "plt.title('the frequant of drivetrain',fontsize=15)\n",
    "df['drivetrain'].str.strip().value_counts().plot(kind='bar');"
   ]
  },
  {
   "cell_type": "code",
   "execution_count": 54,
   "id": "2396b717",
   "metadata": {},
   "outputs": [
    {
     "data": {
      "image/png": "[encoded data removed]",
      "text/plain": [
       "<Figure size 1000x700 with 1 Axes>"
      ]
     },
     "metadata": {},
     "output_type": "display_data"
    }
   ],
   "source": [
    "plt.figure(figsize=(10,7))\n",
    "sns.histplot(y= df['fuel_type'],color='yellow')\n",
    "plt.title('fue_type',fontsize=20);\n"
   ]
  },
  {
   "cell_type": "markdown",
   "id": "cfdabe86",
   "metadata": {},
   "source": [
    "- most of our vehicles use Gasoline fuel\n",
    "- there are som cars use elctric "
   ]
  },
  {
   "cell_type": "code",
   "execution_count": 55,
   "id": "a0bf8b44",
   "metadata": {},
   "outputs": [
    {
     "data": {
      "image/png": "[encoded data removed]",
      "text/plain": [
       "<Figure size 640x480 with 1 Axes>"
      ]
     },
     "metadata": {},
     "output_type": "display_data"
    }
   ],
   "source": [
    "sns.histplot(df['mpg'],color='g')\n",
    "plt.title('Number of miles a car can travel using one gallon of fuel ',fontsize=11);"
   ]
  },
  {
   "cell_type": "markdown",
   "id": "057e7b80",
   "metadata": {},
   "source": [
    "- most frequant mpg is from 18 to 30"
   ]
  },
  {
   "cell_type": "code",
   "execution_count": 56,
   "id": "1a40136b",
   "metadata": {},
   "outputs": [
    {
     "data": {
      "text/plain": [
       "613"
      ]
     },
     "execution_count": 56,
     "metadata": {},
     "output_type": "execute_result"
    }
   ],
   "source": [
    "## number of unique colors in  exterior_color\n",
    "df['exterior_color'] = df['exterior_color'].str.strip().str.title()\n",
    "df['exterior_color'].nunique()"
   ]
  },
  {
   "cell_type": "code",
   "execution_count": 57,
   "id": "f068a70d",
   "metadata": {},
   "outputs": [
    {
     "data": {
      "text/plain": [
       "246"
      ]
     },
     "execution_count": 57,
     "metadata": {},
     "output_type": "execute_result"
    }
   ],
   "source": [
    "# number of unique colors in interior_color\n",
    "df['interior_color'] = df['interior_color'].str.strip().str.title()\n",
    "df['interior_color'].nunique()"
   ]
  },
  {
   "cell_type": "code",
   "execution_count": 58,
   "id": "30151deb",
   "metadata": {
    "scrolled": true
   },
   "outputs": [
    {
     "data": {
      "text/html": [
       "<div>\n",
       "<style scoped>\n",
       "    .dataframe tbody tr th:only-of-type {\n",
       "        vertical-align: middle;\n",
       "    }\n",
       "\n",
       "    .dataframe tbody tr th {\n",
       "        vertical-align: top;\n",
       "    }\n",
       "\n",
       "    .dataframe thead th {\n",
       "        text-align: right;\n",
       "    }\n",
       "</style>\n",
       "<table border=\"1\" class=\"dataframe\">\n",
       "  <thead>\n",
       "    <tr style=\"text-align: right;\">\n",
       "      <th></th>\n",
       "      <th>index</th>\n",
       "      <th>accidents_or_damage</th>\n",
       "    </tr>\n",
       "  </thead>\n",
       "  <tbody>\n",
       "    <tr>\n",
       "      <th>0</th>\n",
       "      <td>0.0</td>\n",
       "      <td>407736</td>\n",
       "    </tr>\n",
       "    <tr>\n",
       "      <th>1</th>\n",
       "      <td>1.0</td>\n",
       "      <td>128772</td>\n",
       "    </tr>\n",
       "  </tbody>\n",
       "</table>\n",
       "</div>"
      ],
      "text/plain": [
       "   index  accidents_or_damage\n",
       "0    0.0               407736\n",
       "1    1.0               128772"
      ]
     },
     "execution_count": 58,
     "metadata": {},
     "output_type": "execute_result"
    }
   ],
   "source": [
    "# how many accidents for each car \n",
    "df['accidents_or_damage'].value_counts().to_frame().reset_index()"
   ]
  },
  {
   "cell_type": "markdown",
   "id": "8e43ab0e",
   "metadata": {},
   "source": [
    "- 23% from our dataset did accident before and rest of our data are not "
   ]
  },
  {
   "cell_type": "code",
   "execution_count": 59,
   "id": "f9ab7098",
   "metadata": {},
   "outputs": [
    {
     "data": {
      "text/html": [
       "<div>\n",
       "<style scoped>\n",
       "    .dataframe tbody tr th:only-of-type {\n",
       "        vertical-align: middle;\n",
       "    }\n",
       "\n",
       "    .dataframe tbody tr th {\n",
       "        vertical-align: top;\n",
       "    }\n",
       "\n",
       "    .dataframe thead th {\n",
       "        text-align: right;\n",
       "    }\n",
       "</style>\n",
       "<table border=\"1\" class=\"dataframe\">\n",
       "  <thead>\n",
       "    <tr style=\"text-align: right;\">\n",
       "      <th></th>\n",
       "      <th>index</th>\n",
       "      <th>one_owner</th>\n",
       "    </tr>\n",
       "  </thead>\n",
       "  <tbody>\n",
       "    <tr>\n",
       "      <th>0</th>\n",
       "      <td>1.0</td>\n",
       "      <td>55.85173</td>\n",
       "    </tr>\n",
       "    <tr>\n",
       "      <th>1</th>\n",
       "      <td>0.0</td>\n",
       "      <td>44.14827</td>\n",
       "    </tr>\n",
       "  </tbody>\n",
       "</table>\n",
       "</div>"
      ],
      "text/plain": [
       "   index  one_owner\n",
       "0    1.0   55.85173\n",
       "1    0.0   44.14827"
      ]
     },
     "execution_count": 59,
     "metadata": {},
     "output_type": "execute_result"
    }
   ],
   "source": [
    "(df['one_owner'].value_counts(normalize=True)*100).to_frame().reset_index()"
   ]
  },
  {
   "cell_type": "code",
   "execution_count": 60,
   "id": "480db3fd",
   "metadata": {},
   "outputs": [
    {
     "data": {
      "text/plain": [
       "1.0    66.32725\n",
       "0.0    33.67275\n",
       "Name: personal_use_only, dtype: float64"
      ]
     },
     "execution_count": 60,
     "metadata": {},
     "output_type": "execute_result"
    }
   ],
   "source": [
    "df['personal_use_only'].value_counts(normalize=True)*100"
   ]
  },
  {
   "cell_type": "markdown",
   "id": "365fef23",
   "metadata": {},
   "source": [
    "# who are top 10 sallers  "
   ]
  },
  {
   "cell_type": "code",
   "execution_count": 61,
   "id": "f36fc976",
   "metadata": {},
   "outputs": [
    {
     "data": {
      "text/plain": [
       "East Coast Auto Source              553\n",
       "Adams North Charlotte               524\n",
       "Automotive Avenues                  515\n",
       "A Better Way Wholesale              492\n",
       "Off Lease Only Orlando              441\n",
       "HGreg.com Orlando                   401\n",
       "Shelor Motor Mile                   400\n",
       "Auto Boutique                       377\n",
       "Donohooauto LLC                     367\n",
       "Westgate Chrysler Jeep Dodge Ram    355\n",
       "Name: seller_name, dtype: int64"
      ]
     },
     "execution_count": 61,
     "metadata": {},
     "output_type": "execute_result"
    }
   ],
   "source": [
    "## saller name \n",
    "df['seller_name'].value_counts()[:10]"
   ]
  },
  {
   "cell_type": "code",
   "execution_count": 62,
   "id": "08d04a56",
   "metadata": {},
   "outputs": [
    {
     "data": {
      "text/plain": [
       "<Axes: xlabel='seller_rating', ylabel='Count'>"
      ]
     },
     "execution_count": 62,
     "metadata": {},
     "output_type": "execute_result"
    },
    {
     "data": {
      "image/png": "[encoded data removed]",
      "text/plain": [
       "<Figure size 640x480 with 1 Axes>"
      ]
     },
     "metadata": {},
     "output_type": "display_data"
    }
   ],
   "source": [
    "## saller rating\n",
    "sns.histplot(df['seller_rating'],color='gray')"
   ]
  },
  {
   "cell_type": "code",
   "execution_count": 63,
   "id": "f62f7982",
   "metadata": {},
   "outputs": [
    {
     "data": {
      "text/plain": [
       "<Axes: xlabel='driver_rating', ylabel='Count'>"
      ]
     },
     "execution_count": 63,
     "metadata": {},
     "output_type": "execute_result"
    },
    {
     "data": {
      "image/png": "[encoded data removed]",
      "text/plain": [
       "<Figure size 640x480 with 1 Axes>"
      ]
     },
     "metadata": {},
     "output_type": "display_data"
    }
   ],
   "source": [
    "## driver rating\n",
    "sns.histplot(df['driver_rating'],color='r')"
   ]
  },
  {
   "cell_type": "code",
   "execution_count": 64,
   "id": "101353d5",
   "metadata": {},
   "outputs": [
    {
     "data": {
      "image/png": "[encoded data removed]",
      "text/plain": [
       "<Figure size 600x600 with 1 Axes>"
      ]
     },
     "metadata": {},
     "output_type": "display_data"
    }
   ],
   "source": [
    "## number of driver's rating \n",
    "plt.figure(figsize=(6,6))\n",
    "sns.histplot(y=df['driver_reviews_num'])\n",
    "plt.title(\"driver's rieves number\");"
   ]
  },
  {
   "cell_type": "code",
   "execution_count": 65,
   "id": "b3f522e8",
   "metadata": {},
   "outputs": [
    {
     "data": {
      "image/png": "[encoded data removed]",
      "text/plain": [
       "<Figure size 640x480 with 1 Axes>"
      ]
     },
     "metadata": {},
     "output_type": "display_data"
    }
   ],
   "source": [
    "# the column of the price\n",
    "sns.histplot(df['price'])\n",
    "plt.title('Price',fontsize=25);"
   ]
  },
  {
   "cell_type": "code",
   "execution_count": null,
   "id": "638f7e11",
   "metadata": {},
   "outputs": [],
   "source": [
    "# df.select_dtypes('O')"
   ]
  },
  {
   "cell_type": "code",
   "execution_count": null,
   "id": "069b5d1d",
   "metadata": {
    "scrolled": false
   },
   "outputs": [],
   "source": [
    "df.drop(columns=['seller_name'],inplace=True)"
   ]
  },
  {
   "cell_type": "code",
   "execution_count": null,
   "id": "ab777214",
   "metadata": {},
   "outputs": [],
   "source": [
    "df.to_csv('new_data_cars.csv',index=False)"
   ]
  },
  {
   "cell_type": "code",
   "execution_count": null,
   "id": "d5278bcb",
   "metadata": {},
   "outputs": [],
   "source": []
  }
 ],
 "metadata": {
  "kernelspec": {
   "display_name": "Python 3 (ipykernel)",
   "language": "python",
   "name": "python3"
  },
  "language_info": {
   "codemirror_mode": {
    "name": "ipython",
    "version": 3
   },
   "file_extension": ".py",
   "mimetype": "text/x-python",
   "name": "python",
   "nbconvert_exporter": "python",
   "pygments_lexer": "ipython3",
   "version": "3.11.3"
  }
 },
 "nbformat": 4,
 "nbformat_minor": 5
}
